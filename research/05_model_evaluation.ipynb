{
 "cells": [
  {
   "cell_type": "code",
   "execution_count": 1,
   "metadata": {},
   "outputs": [],
   "source": [
    "import os"
   ]
  },
  {
   "cell_type": "code",
   "execution_count": 2,
   "metadata": {},
   "outputs": [
    {
     "data": {
      "text/plain": [
       "'c:\\\\Users\\\\LENOVO\\\\1. Projects\\\\Bodycode-Anomaly-Detection-Project\\\\research'"
      ]
     },
     "execution_count": 2,
     "metadata": {},
     "output_type": "execute_result"
    }
   ],
   "source": [
    "%pwd"
   ]
  },
  {
   "cell_type": "code",
   "execution_count": 3,
   "metadata": {},
   "outputs": [],
   "source": [
    "os.chdir(\"../\")"
   ]
  },
  {
   "cell_type": "code",
   "execution_count": 4,
   "metadata": {},
   "outputs": [
    {
     "data": {
      "text/plain": [
       "'c:\\\\Users\\\\LENOVO\\\\1. Projects\\\\Bodycode-Anomaly-Detection-Project'"
      ]
     },
     "execution_count": 4,
     "metadata": {},
     "output_type": "execute_result"
    }
   ],
   "source": [
    "%pwd"
   ]
  },
  {
   "cell_type": "code",
   "execution_count": 5,
   "metadata": {},
   "outputs": [],
   "source": [
    "from dataclasses import dataclass\n",
    "from pathlib import Path\n",
    "\n",
    "\n",
    "@dataclass(frozen=True)\n",
    "class ModelEvaluationConfig:\n",
    "    root_dir: Path\n",
    "    data_path: Path\n",
    "    model_path: Path\n",
    "    scaler_path: Path\n",
    "    metric_file_name: Path"
   ]
  },
  {
   "cell_type": "code",
   "execution_count": 6,
   "metadata": {},
   "outputs": [
    {
     "name": "stdout",
     "output_type": "stream",
     "text": [
      "[2024-01-05 13:06:13,438: INFO: utils: NumExpr defaulting to 8 threads.]\n"
     ]
    }
   ],
   "source": [
    "from bodycoteAnomalyDetection.constants import CONFIG_FILE_PATH, PARAMS_FILE_PATH\n",
    "from bodycoteAnomalyDetection.utils.common import read_yaml, create_directories"
   ]
  },
  {
   "cell_type": "code",
   "execution_count": 7,
   "metadata": {},
   "outputs": [],
   "source": [
    "class ConfigurationManager:\n",
    "    def __init__(\n",
    "            self, \n",
    "            config_filepath=CONFIG_FILE_PATH, \n",
    "            params_filepath=PARAMS_FILE_PATH):\n",
    "        \n",
    "        self.config = read_yaml(config_filepath)\n",
    "        self.params = read_yaml(params_filepath)\n",
    "        \n",
    "        create_directories([self.config.artifacts_root])\n",
    "\n",
    "    def get_model_evaluation_config(self) -> ModelEvaluationConfig:\n",
    "        config = self.config.model_evaluation\n",
    "\n",
    "        create_directories([config.root_dir])\n",
    "\n",
    "        model_evaluation_config = ModelEvaluationConfig(\n",
    "            root_dir=config.root_dir,\n",
    "            data_path=config.data_path,\n",
    "            model_path = config.model_path,\n",
    "            scaler_path = config.scaler_path,\n",
    "            metric_file_name = config.metric_file_name\n",
    "           \n",
    "        )\n",
    "\n",
    "        return model_evaluation_config"
   ]
  },
  {
   "cell_type": "code",
   "execution_count": 8,
   "metadata": {},
   "outputs": [
    {
     "name": "stdout",
     "output_type": "stream",
     "text": [
      "[2024-01-05 13:06:27,524: WARNING: module_wrapper: From c:\\Users\\LENOVO\\anaconda3\\Lib\\site-packages\\keras\\src\\losses.py:2976: The name tf.losses.sparse_softmax_cross_entropy is deprecated. Please use tf.compat.v1.losses.sparse_softmax_cross_entropy instead.\n",
      "]\n"
     ]
    }
   ],
   "source": [
    "import pandas as pd\n",
    "from keras.models import load_model\n",
    "from sklearn.metrics import mean_squared_error, mean_absolute_error,r2_score\n",
    "import json\n",
    "import joblib\n",
    "from bodycoteAnomalyDetection.components import model_trainer"
   ]
  },
  {
   "cell_type": "code",
   "execution_count": 9,
   "metadata": {},
   "outputs": [],
   "source": [
    "class ModelEvaluation:\n",
    "    def __init__(self, config: ModelEvaluationConfig):\n",
    "        self.config = config\n",
    "        self.trainer = model_trainer.ModelTrainer(config)\n",
    "        self.model = self.load_model()\n",
    "        self.data = self.load_data()\n",
    "        \n",
    "\n",
    "    def load_model(self):\n",
    "        return load_model(self.config.model_path)\n",
    "\n",
    "    def load_data(self):\n",
    "        df = self.trainer.load_data()\n",
    "        scaler = joblib.load(self.config.scaler_path)\n",
    "        X_scaled = scaler.transform(df)\n",
    "        X_reshaped = self.trainer.data_reshaper(X_scaled)\n",
    "        return X_reshaped\n",
    "\n",
    "    def evaluate(self):\n",
    "        predictions = self.model.predict(self.data)\n",
    "        data_flat = self.trainer.data_flattening(self.data)\n",
    "        predictions_flat = self.trainer.data_flattening(predictions)\n",
    "        mse = mean_squared_error(data_flat, predictions_flat)\n",
    "        mae = mean_absolute_error(data_flat, predictions_flat)\n",
    "        r2 = r2_score(data_flat, predictions_flat)\n",
    "\n",
    "        metrics = {\n",
    "            \"MSE\": mse,\n",
    "            \"MAE\": mae,\n",
    "            \"R2 Score\": r2\n",
    "        }\n",
    "        with open(self.config.metric_file_name, 'w') as metric_file:\n",
    "            json.dump(metrics, metric_file)\n",
    "\n",
    "        return metrics\n",
    "\n",
    "    def display_evaluation(self):\n",
    "        \"\"\"Display or log the evaluation results.\"\"\"\n",
    "        metrics = self.evaluate()\n",
    "        print(\"Evaluation Metrics:\")\n",
    "        for metric, value in metrics.items():\n",
    "            print(f\"{metric}: {value}\")"
   ]
  },
  {
   "cell_type": "code",
   "execution_count": 10,
   "metadata": {},
   "outputs": [
    {
     "name": "stdout",
     "output_type": "stream",
     "text": [
      "[2024-01-05 13:06:28,515: INFO: common: yaml file: config\\config.yaml loaded successfully]\n",
      "[2024-01-05 13:06:28,525: INFO: common: yaml file: params.yaml loaded successfully]\n",
      "[2024-01-05 13:06:28,528: INFO: common: created directory at: artifacts]\n",
      "[2024-01-05 13:06:28,530: INFO: common: created directory at: artifacts/model_evaluation]\n",
      "[2024-01-05 13:06:28,948: WARNING: module_wrapper: From c:\\Users\\LENOVO\\anaconda3\\Lib\\site-packages\\keras\\src\\backend.py:1398: The name tf.executing_eagerly_outside_functions is deprecated. Please use tf.compat.v1.executing_eagerly_outside_functions instead.\n",
      "]\n",
      "4998/4998 [==============================] - 36s 7ms/step\n",
      "Evaluation Metrics:\n",
      "MSE: 0.0011828201164277108\n",
      "MAE: 0.013798639101330702\n",
      "R2 Score: 0.31597236901631337\n"
     ]
    }
   ],
   "source": [
    "try:\n",
    "    config_manager = ConfigurationManager()\n",
    "    model_eval_config = config_manager.get_model_evaluation_config()\n",
    "    model_evaluator = ModelEvaluation(config=model_eval_config)\n",
    "    model_evaluator.evaluate()\n",
    "except Exception as e:\n",
    "    raise e"
   ]
  }
 ],
 "metadata": {
  "kernelspec": {
   "display_name": "base",
   "language": "python",
   "name": "python3"
  },
  "language_info": {
   "codemirror_mode": {
    "name": "ipython",
    "version": 3
   },
   "file_extension": ".py",
   "mimetype": "text/x-python",
   "name": "python",
   "nbconvert_exporter": "python",
   "pygments_lexer": "ipython3",
   "version": "3.11.5"
  }
 },
 "nbformat": 4,
 "nbformat_minor": 2
}
