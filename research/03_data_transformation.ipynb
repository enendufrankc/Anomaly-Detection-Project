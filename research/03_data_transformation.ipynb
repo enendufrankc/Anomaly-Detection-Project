{
 "cells": [
  {
   "cell_type": "code",
   "execution_count": 1,
   "metadata": {},
   "outputs": [],
   "source": [
    "import os"
   ]
  },
  {
   "cell_type": "code",
   "execution_count": 2,
   "metadata": {},
   "outputs": [
    {
     "data": {
      "text/plain": [
       "'c:\\\\Users\\\\LENOVO\\\\1. Projects\\\\Bodycode-Anomaly-Detection-Project\\\\research'"
      ]
     },
     "execution_count": 2,
     "metadata": {},
     "output_type": "execute_result"
    }
   ],
   "source": [
    "%pwd"
   ]
  },
  {
   "cell_type": "code",
   "execution_count": 3,
   "metadata": {},
   "outputs": [],
   "source": [
    "os.chdir(\"../\")"
   ]
  },
  {
   "cell_type": "code",
   "execution_count": 4,
   "metadata": {},
   "outputs": [
    {
     "data": {
      "text/plain": [
       "'c:\\\\Users\\\\LENOVO\\\\1. Projects\\\\Bodycode-Anomaly-Detection-Project'"
      ]
     },
     "execution_count": 4,
     "metadata": {},
     "output_type": "execute_result"
    }
   ],
   "source": [
    "%pwd"
   ]
  },
  {
   "cell_type": "code",
   "execution_count": 5,
   "metadata": {},
   "outputs": [],
   "source": [
    "from dataclasses import dataclass\n",
    "from pathlib import Path\n",
    "\n",
    "\n",
    "@dataclass(frozen=True)\n",
    "class DataTransformationConfig:\n",
    "    root_dir: Path\n",
    "    data_path: Path"
   ]
  },
  {
   "cell_type": "code",
   "execution_count": 6,
   "metadata": {},
   "outputs": [
    {
     "name": "stdout",
     "output_type": "stream",
     "text": [
      "[2024-01-04 10:24:27,566: INFO: utils: NumExpr defaulting to 8 threads.]\n"
     ]
    }
   ],
   "source": [
    "from bodycoteAnomalyDetection.constants import *\n",
    "from bodycoteAnomalyDetection.utils.common import read_yaml, create_directories"
   ]
  },
  {
   "cell_type": "code",
   "execution_count": 7,
   "metadata": {},
   "outputs": [],
   "source": [
    "class ConfigurationManager:\n",
    "    def __init__(\n",
    "        self,\n",
    "        config_filepath = CONFIG_FILE_PATH,\n",
    "        params_filepath = PARAMS_FILE_PATH):\n",
    "\n",
    "        self.config = read_yaml(config_filepath)\n",
    "        self.params = read_yaml(params_filepath)\n",
    "\n",
    "        create_directories([self.config.artifacts_root])\n",
    "\n",
    "\n",
    "    \n",
    "    def get_data_transformation_config(self) -> DataTransformationConfig:\n",
    "        config = self.config.data_transformation\n",
    "\n",
    "        create_directories([config.root_dir])\n",
    "\n",
    "        data_transformation_config = DataTransformationConfig(\n",
    "            root_dir=config.root_dir,\n",
    "            data_path=config.data_path,\n",
    "        )\n",
    "\n",
    "        return data_transformation_config"
   ]
  },
  {
   "cell_type": "code",
   "execution_count": 12,
   "metadata": {},
   "outputs": [],
   "source": [
    "# Define all your imports at the beginning\n",
    "import glob\n",
    "import os\n",
    "import pandas as pd\n",
    "from bodycoteAnomalyDetection.logging import logger\n",
    "from datasets import load_dataset, load_from_disk\n",
    "\n",
    "class DataTransformation:\n",
    "    def __init__(self, config: DataTransformationConfig):\n",
    "        self.config = config\n",
    "\n",
    "    def data_transform(self, example_batch):\n",
    "        # Convert TimeStamp column to datetime format\n",
    "        example_batch['TimeStamp'] = pd.to_datetime(example_batch['TimeStamp'], format='%d/%m/%Y %H:%M:%S')\n",
    "        example_batch.drop_duplicates(subset='TimeStamp', keep='last', inplace=True)\n",
    "        \n",
    "        # Make time stamp as index and sort by the index\n",
    "        example_batch.set_index('TimeStamp', inplace=True)\n",
    "        example_batch.sort_index(inplace=True)\n",
    "        \n",
    "        # Return numeric dataset\n",
    "        data_training = example_batch.select_dtypes(include=['float64', 'int64'])\n",
    "\n",
    "        return example_batch, data_training\n",
    "    \n",
    "    def read_csv(self, file_path):\n",
    "        return pd.read_csv(file_path)\n",
    "\n",
    "    def convert(self, file_path):\n",
    "        df = self.read_csv(file_path)\n",
    "        clean_data, data_training = self.data_transformation(df)\n",
    "        clean_data.to_csv(os.path.join(self.config.root_dir, 'clean_data.csv'))\n",
    "        data_training.to_csv(os.path.join(self.config.root_dir, 'data_training.csv'))\n",
    "\n",
    "    def process_all_csv(self):\n",
    "        try:\n",
    "            csv_files = glob.glob(os.path.join(self.config.data_path, '*.csv'))\n",
    "            for file in csv_files:\n",
    "                self.convert(file)\n",
    "        except Exception as e:\n",
    "            logger.error(f\"An error occurred: {e}\")\n",
    "            raise"
   ]
  },
  {
   "cell_type": "code",
   "execution_count": 13,
   "metadata": {},
   "outputs": [
    {
     "name": "stdout",
     "output_type": "stream",
     "text": [
      "[2024-01-04 10:24:30,502: INFO: common: yaml file: config\\config.yaml loaded successfully]\n",
      "[2024-01-04 10:24:30,505: INFO: common: yaml file: params.yaml loaded successfully]\n",
      "[2024-01-04 10:24:30,507: INFO: common: created directory at: artifacts]\n",
      "[2024-01-04 10:24:30,510: INFO: common: created directory at: artifacts/data_transformation]\n"
     ]
    }
   ],
   "source": [
    "#### Pipeline\n",
    "try:\n",
    "    config = ConfigurationManager()\n",
    "    data_transformation_config = config.get_data_transformation_config()\n",
    "    data_transformation = DataTransformation(config=data_transformation_config)\n",
    "    data_transformation.process_all_csv()\n",
    "except Exception as e:\n",
    "    logger.error(f\"An error occurred in the pipeline: {e}\")\n",
    "    raise"
   ]
  },
  {
   "cell_type": "code",
   "execution_count": null,
   "metadata": {},
   "outputs": [],
   "source": []
  },
  {
   "cell_type": "code",
   "execution_count": null,
   "metadata": {},
   "outputs": [],
   "source": []
  }
 ],
 "metadata": {
  "kernelspec": {
   "display_name": "base",
   "language": "python",
   "name": "python3"
  },
  "language_info": {
   "codemirror_mode": {
    "name": "ipython",
    "version": 3
   },
   "file_extension": ".py",
   "mimetype": "text/x-python",
   "name": "python",
   "nbconvert_exporter": "python",
   "pygments_lexer": "ipython3",
   "version": "3.11.5"
  }
 },
 "nbformat": 4,
 "nbformat_minor": 2
}
